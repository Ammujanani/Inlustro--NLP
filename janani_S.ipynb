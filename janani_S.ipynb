{
  "nbformat": 4,
  "nbformat_minor": 0,
  "metadata": {
    "colab": {
      "provenance": [],
      "authorship_tag": "ABX9TyMcnuu5CCbLk0+3wj0dhcGM",
      "include_colab_link": true
    },
    "kernelspec": {
      "name": "python3",
      "display_name": "Python 3"
    },
    "language_info": {
      "name": "python"
    }
  },
  "cells": [
    {
      "cell_type": "markdown",
      "metadata": {
        "id": "view-in-github",
        "colab_type": "text"
      },
      "source": [
        "<a href=\"https://colab.research.google.com/github/Ammujanani/Inlustro--NLP/blob/main/janani_S.ipynb\" target=\"_parent\"><img src=\"https://colab.research.google.com/assets/colab-badge.svg\" alt=\"Open In Colab\"/></a>"
      ]
    },
    {
      "cell_type": "code",
      "source": [
        "def generate_code(option):\n",
        "    if option == \"hello_world\":\n",
        "        code = '''# This is a simple Python script that prints Hello, World!\n",
        "print(\"Hello, World!\")'''\n",
        "    elif option == \"add_numbers\":\n",
        "        code = '''# This function adds two numbers\n",
        "def add(a, b):\n",
        "    return a + b\n",
        "\n",
        "# Example usage\n",
        "result = add(5, 3)\n",
        "print(result)'''\n",
        "    elif option == \"multiply_numbers\":\n",
        "        code = '''# This function multiplies two numbers\n",
        "def multiply(a, b):\n",
        "    return a * b\n",
        "\n",
        "# Example usage\n",
        "result = multiply(5, 3)\n",
        "print(result)'''\n",
        "    else:\n",
        "        code = \"Invalid option. Please choose a valid code type.\"\n",
        "\n",
        "    return code\n",
        "\n",
        "\n",
        "def main():\n",
        "    print(\"Choose a type of code to generate:\")\n",
        "    print(\"1. Hello World program\")\n",
        "    print(\"2. Add two numbers function\")\n",
        "    print(\"3. Multiply two numbers function\")\n",
        "\n",
        "    option = input(\"Enter the number corresponding to your choice: \").strip()\n",
        "\n",
        "    if option == \"1\":\n",
        "        generated_code = generate_code(\"hello_world\")\n",
        "    elif option == \"2\":\n",
        "        generated_code = generate_code(\"add_numbers\")\n",
        "    elif option == \"3\":\n",
        "        generated_code = generate_code(\"multiply_numbers\")\n",
        "    else:\n",
        "        generated_code = \"Invalid choice. Please select a valid option.\"\n",
        "\n",
        "    print(\"\\nGenerated Code:\")\n",
        "    print(generated_code)\n",
        "\n",
        "if __name__ == \"__main__\":\n",
        "    main()\n"
      ],
      "metadata": {
        "colab": {
          "base_uri": "https://localhost:8080/",
          "height": 0
        },
        "id": "o0vz3DQK3WlW",
        "outputId": "9bfb6a1d-386d-4f4e-c82a-5fcc09aad7aa"
      },
      "execution_count": 39,
      "outputs": [
        {
          "output_type": "stream",
          "name": "stdout",
          "text": [
            "Choose a type of code to generate:\n",
            "1. Hello World program\n",
            "2. Add two numbers function\n",
            "3. Multiply two numbers function\n",
            "Enter the number corresponding to your choice: 2\n",
            "\n",
            "Generated Code:\n",
            "# This function adds two numbers\n",
            "def add(a, b):\n",
            "    return a + b\n",
            "\n",
            "# Example usage\n",
            "result = add(5, 3)\n",
            "print(result)\n"
          ]
        }
      ]
    }
  ]
}